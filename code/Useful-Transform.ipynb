{
 "cells": [
  {
   "cell_type": "markdown",
   "metadata": {},
   "source": [
    "## 常见的Transform\n"
   ]
  },
  {
   "cell_type": "markdown",
   "metadata": {},
   "source": [
    "### ToTensor使用"
   ]
  },
  {
   "cell_type": "code",
   "execution_count": 18,
   "metadata": {},
   "outputs": [
    {
     "name": "stdout",
     "output_type": "stream",
     "text": [
      "<PIL.JpegImagePlugin.JpegImageFile image mode=RGB size=768x512 at 0x7FD1AF5B5358>\n",
      "tensor([[[0.3137, 0.3137, 0.3137,  ..., 0.3176, 0.3098, 0.2980],\n",
      "         [0.3176, 0.3176, 0.3176,  ..., 0.3176, 0.3098, 0.2980],\n",
      "         [0.3216, 0.3216, 0.3216,  ..., 0.3137, 0.3098, 0.3020],\n",
      "         ...,\n",
      "         [0.3412, 0.3412, 0.3373,  ..., 0.1725, 0.3725, 0.3529],\n",
      "         [0.3412, 0.3412, 0.3373,  ..., 0.3294, 0.3529, 0.3294],\n",
      "         [0.3412, 0.3412, 0.3373,  ..., 0.3098, 0.3059, 0.3294]],\n",
      "\n",
      "        [[0.5922, 0.5922, 0.5922,  ..., 0.5961, 0.5882, 0.5765],\n",
      "         [0.5961, 0.5961, 0.5961,  ..., 0.5961, 0.5882, 0.5765],\n",
      "         [0.6000, 0.6000, 0.6000,  ..., 0.5922, 0.5882, 0.5804],\n",
      "         ...,\n",
      "         [0.6275, 0.6275, 0.6235,  ..., 0.3608, 0.6196, 0.6157],\n",
      "         [0.6275, 0.6275, 0.6235,  ..., 0.5765, 0.6275, 0.5961],\n",
      "         [0.6275, 0.6275, 0.6235,  ..., 0.6275, 0.6235, 0.6314]],\n",
      "\n",
      "        [[0.9137, 0.9137, 0.9137,  ..., 0.9176, 0.9098, 0.8980],\n",
      "         [0.9176, 0.9176, 0.9176,  ..., 0.9176, 0.9098, 0.8980],\n",
      "         [0.9216, 0.9216, 0.9216,  ..., 0.9137, 0.9098, 0.9020],\n",
      "         ...,\n",
      "         [0.9294, 0.9294, 0.9255,  ..., 0.5529, 0.9216, 0.8941],\n",
      "         [0.9294, 0.9294, 0.9255,  ..., 0.8863, 1.0000, 0.9137],\n",
      "         [0.9294, 0.9294, 0.9255,  ..., 0.9490, 0.9804, 0.9137]]])\n"
     ]
    }
   ],
   "source": [
    "from PIL import Image\n",
    "from torch.utils.tensorboard import SummaryWriter\n",
    "from torchvision import transforms\n",
    "\n",
    "writer = SummaryWriter(\"logs\")\n",
    "img_path = \"./dataset/train/ants_image/0013035.jpg\"\n",
    "img = Image.open(img_path)\n",
    "print(img)\n",
    "\n",
    "trans_totensor = transforms.ToTensor()\n",
    "img_tensor = trans_totensor(img)\n",
    "print(img_tensor)\n",
    "writer.add_image(\"ToTensor\", img_tensor)\n",
    "writer.close()"
   ]
  },
  {
   "cell_type": "markdown",
   "metadata": {},
   "source": [
    "### Normalize\n",
    "主要用于图片的归一化"
   ]
  },
  {
   "cell_type": "code",
   "execution_count": 12,
   "metadata": {},
   "outputs": [
    {
     "name": "stdout",
     "output_type": "stream",
     "text": [
      "<PIL.JpegImagePlugin.JpegImageFile image mode=RGB size=768x512 at 0x7FD1AD514EB8>\n"
     ]
    }
   ],
   "source": [
    "from PIL import Image\n",
    "from torch.utils.tensorboard import SummaryWriter\n",
    "from torchvision import transforms\n",
    "\n",
    "writer = SummaryWriter(\"logs\")\n",
    "img_path = \"./dataset/train/ants_image/0013035.jpg\"\n",
    "img = Image.open(img_path)\n",
    "print(img)\n",
    "\n",
    "trans_totensor = transforms.ToTensor()\n",
    "img_tensor = trans_totensor(img)\n",
    "\n",
    "trans_norm = transforms.Normalize([0.5, 0.5, 0.5], [0.5, 0.5, 0.5])\n",
    "img_norm = trans_norm(img_tensor)\n",
    "writer.add_image(\"Normalize\", img_norm)\n",
    "writer.close()"
   ]
  },
  {
   "cell_type": "markdown",
   "metadata": {
    "collapsed": true
   },
   "source": [
    "### Resize\n",
    "用于图片更改大小"
   ]
  },
  {
   "cell_type": "code",
   "execution_count": 17,
   "metadata": {},
   "outputs": [
    {
     "name": "stdout",
     "output_type": "stream",
     "text": [
      "<PIL.JpegImagePlugin.JpegImageFile image mode=RGB size=768x512 at 0x7FD1AF5B5128>\n",
      "<PIL.Image.Image image mode=RGB size=512x512 at 0x7FD1AF5B5F60>\n"
     ]
    }
   ],
   "source": [
    "from PIL import Image\n",
    "from torch.utils.tensorboard import SummaryWriter\n",
    "from torchvision import transforms\n",
    "\n",
    "writer = SummaryWriter(\"logs\")\n",
    "img_path = \"./dataset/train/ants_image/0013035.jpg\"\n",
    "img = Image.open(img_path)\n",
    "print(img)\n",
    "\n",
    "trans_resize = transforms.Resize((512, 512))\n",
    "img_resize = trans_resize(img)\n",
    "print(img_resize)\n",
    "\n",
    "trans_totensor = transforms.ToTensor()\n",
    "img_resize_tensor = trans_totensor(img_resize)\n",
    "\n",
    "writer.add_image(\"Resize\", img_resize_tensor)\n",
    "writer.close()"
   ]
  },
  {
   "cell_type": "markdown",
   "metadata": {},
   "source": [
    "### Compose\n",
    "可以多部分操作结合在一块，后面一个参数需要的输入，和前面一个参数的输出是要一致的！"
   ]
  },
  {
   "cell_type": "code",
   "execution_count": 20,
   "metadata": {},
   "outputs": [
    {
     "name": "stdout",
     "output_type": "stream",
     "text": [
      "<PIL.JpegImagePlugin.JpegImageFile image mode=RGB size=768x512 at 0x7FD1AF5B5240>\n",
      "tensor([[[0.3176, 0.3176, 0.3216,  ..., 0.3098, 0.3059, 0.3098],\n",
      "         [0.3216, 0.3176, 0.3176,  ..., 0.3098, 0.3059, 0.3098],\n",
      "         [0.3137, 0.3176, 0.3216,  ..., 0.3137, 0.3020, 0.3059],\n",
      "         ...,\n",
      "         [0.3412, 0.3373, 0.3373,  ..., 0.0157, 0.0353, 0.2510],\n",
      "         [0.3412, 0.3373, 0.3333,  ..., 0.0510, 0.0706, 0.2784],\n",
      "         [0.3412, 0.3373, 0.3333,  ..., 0.2824, 0.2980, 0.3216]],\n",
      "\n",
      "        [[0.5961, 0.5961, 0.6000,  ..., 0.5843, 0.5843, 0.5882],\n",
      "         [0.6000, 0.5961, 0.5961,  ..., 0.5843, 0.5843, 0.5882],\n",
      "         [0.5922, 0.5961, 0.6000,  ..., 0.5882, 0.5804, 0.5843],\n",
      "         ...,\n",
      "         [0.6275, 0.6235, 0.6235,  ..., 0.0039, 0.0392, 0.4824],\n",
      "         [0.6275, 0.6235, 0.6196,  ..., 0.0902, 0.1216, 0.4941],\n",
      "         [0.6275, 0.6235, 0.6196,  ..., 0.5216, 0.5255, 0.5922]],\n",
      "\n",
      "        [[0.9176, 0.9176, 0.9216,  ..., 0.9098, 0.9059, 0.9098],\n",
      "         [0.9216, 0.9176, 0.9176,  ..., 0.9098, 0.9059, 0.9098],\n",
      "         [0.9137, 0.9176, 0.9216,  ..., 0.9098, 0.9020, 0.9059],\n",
      "         ...,\n",
      "         [0.9294, 0.9255, 0.9255,  ..., 0.0157, 0.0549, 0.7098],\n",
      "         [0.9294, 0.9255, 0.9216,  ..., 0.1412, 0.1961, 0.7490],\n",
      "         [0.9294, 0.9255, 0.9255,  ..., 0.7725, 0.7804, 0.9059]]])\n"
     ]
    }
   ],
   "source": [
    "from PIL import Image\n",
    "from torch.utils.tensorboard import SummaryWriter\n",
    "from torchvision import transforms\n",
    "\n",
    "writer = SummaryWriter(\"logs\")\n",
    "img_path = \"./dataset/train/ants_image/0013035.jpg\"\n",
    "img = Image.open(img_path)\n",
    "print(img)\n",
    "\n",
    "trans_resize_2 = transforms.Resize((256, 256))\n",
    "trans_totensor = transforms.ToTensor()\n",
    "trans_compose = transforms.Compose([trans_resize_2, trans_totensor])\n",
    "img_resize_2 = trans_compose(img)\n",
    "print(img_resize_2)\n",
    "\n",
    "writer.add_image(\"Resize2\", img_resize_2)\n",
    "writer.close()"
   ]
  },
  {
   "cell_type": "markdown",
   "metadata": {},
   "source": [
    "### RandomCrop\n",
    "随机裁剪"
   ]
  },
  {
   "cell_type": "code",
   "execution_count": 23,
   "metadata": {},
   "outputs": [
    {
     "name": "stdout",
     "output_type": "stream",
     "text": [
      "<PIL.JpegImagePlugin.JpegImageFile image mode=RGB size=768x512 at 0x7FD1AF5B5C50>\n"
     ]
    }
   ],
   "source": [
    "from PIL import Image\n",
    "from torch.utils.tensorboard import SummaryWriter\n",
    "from torchvision import transforms\n",
    "\n",
    "writer = SummaryWriter(\"logs\")\n",
    "img_path = \"./dataset/train/ants_image/0013035.jpg\"\n",
    "img = Image.open(img_path)\n",
    "print(img)\n",
    "\n",
    "trans_random = transforms.RandomCrop(512)\n",
    "trans_totensor = transforms.ToTensor()\n",
    "trans_compose = transforms.Compose([trans_random, trans_totensor])\n",
    "for i in range(10):\n",
    "    img_random = trans_compose(img)\n",
    "    writer.add_image(\"random\", img_random, i)\n",
    "writer.close()"
   ]
  },
  {
   "cell_type": "code",
   "execution_count": null,
   "metadata": {
    "collapsed": true
   },
   "outputs": [],
   "source": []
  }
 ],
 "metadata": {
  "kernelspec": {
   "display_name": "Python 3",
   "language": "python",
   "name": "python3"
  },
  "language_info": {
   "codemirror_mode": {
    "name": "ipython",
    "version": 3
   },
   "file_extension": ".py",
   "mimetype": "text/x-python",
   "name": "python",
   "nbconvert_exporter": "python",
   "pygments_lexer": "ipython3",
   "version": "3.6.2"
  }
 },
 "nbformat": 4,
 "nbformat_minor": 2
}
