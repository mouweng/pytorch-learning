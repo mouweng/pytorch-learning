{
 "cells": [
  {
   "cell_type": "code",
   "execution_count": 6,
   "metadata": {},
   "outputs": [
    {
     "name": "stdout",
     "output_type": "stream",
     "text": [
      "tensor([-2, -1,  0,  1,  2])\n",
      "tensor([0, 0, 0, 1, 2])\n"
     ]
    }
   ],
   "source": [
    "from torch.nn import ReLU\n",
    "import torch\n",
    "\n",
    "input = torch.tensor([-2, -1, 0, 1, 2])\n",
    "m = ReLU()\n",
    "print(input)\n",
    "output = m(input)\n",
    "print(output)"
   ]
  },
  {
   "cell_type": "code",
   "execution_count": 11,
   "metadata": {},
   "outputs": [
    {
     "name": "stdout",
     "output_type": "stream",
     "text": [
      "tensor([-2., -1.,  0.,  1.,  2.])\n",
      "tensor([0.1192, 0.2689, 0.5000, 0.7311, 0.8808])\n"
     ]
    }
   ],
   "source": [
    "from torch.nn import Sigmoid\n",
    "import torch\n",
    "\n",
    "input = torch.tensor([-2, -1, 0, 1, 2], dtype=torch.float)\n",
    "m = Sigmoid()\n",
    "print(input)\n",
    "output = m(input)\n",
    "print(output)"
   ]
  },
  {
   "cell_type": "code",
   "execution_count": null,
   "metadata": {
    "collapsed": true
   },
   "outputs": [],
   "source": []
  }
 ],
 "metadata": {
  "kernelspec": {
   "display_name": "Python 3",
   "language": "python",
   "name": "python3"
  },
  "language_info": {
   "codemirror_mode": {
    "name": "ipython",
    "version": 3
   },
   "file_extension": ".py",
   "mimetype": "text/x-python",
   "name": "python",
   "nbconvert_exporter": "python",
   "pygments_lexer": "ipython3",
   "version": "3.6.2"
  }
 },
 "nbformat": 4,
 "nbformat_minor": 2
}
