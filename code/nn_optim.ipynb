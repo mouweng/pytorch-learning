{
 "cells": [
  {
   "cell_type": "code",
   "execution_count": 3,
   "metadata": {},
   "outputs": [
    {
     "name": "stdout",
     "output_type": "stream",
     "text": [
      "tensor(360.9059, grad_fn=<AddBackward0>)\n",
      "tensor(356.4598, grad_fn=<AddBackward0>)\n",
      "tensor(340.2340, grad_fn=<AddBackward0>)\n",
      "tensor(321.7190, grad_fn=<AddBackward0>)\n",
      "tensor(312.0399, grad_fn=<AddBackward0>)\n",
      "tensor(303.5707, grad_fn=<AddBackward0>)\n",
      "tensor(293.7194, grad_fn=<AddBackward0>)\n",
      "tensor(285.3713, grad_fn=<AddBackward0>)\n",
      "tensor(278.6652, grad_fn=<AddBackward0>)\n",
      "tensor(272.7400, grad_fn=<AddBackward0>)\n",
      "tensor(267.5092, grad_fn=<AddBackward0>)\n",
      "tensor(262.5300, grad_fn=<AddBackward0>)\n",
      "tensor(257.5721, grad_fn=<AddBackward0>)\n",
      "tensor(252.6479, grad_fn=<AddBackward0>)\n",
      "tensor(247.9521, grad_fn=<AddBackward0>)\n",
      "tensor(243.6132, grad_fn=<AddBackward0>)\n",
      "tensor(239.6037, grad_fn=<AddBackward0>)\n",
      "tensor(235.8739, grad_fn=<AddBackward0>)\n",
      "tensor(232.3826, grad_fn=<AddBackward0>)\n",
      "tensor(229.0876, grad_fn=<AddBackward0>)\n"
     ]
    }
   ],
   "source": [
    "import torch\n",
    "import torchvision\n",
    "from torch.utils.data import DataLoader\n",
    "from torch import nn\n",
    "from torch.nn import Conv2d, MaxPool2d, Flatten, Linear, Sequential, CrossEntropyLoss\n",
    "\n",
    "dataset = torchvision.datasets.CIFAR10(root=\"./tv_dataset\", \n",
    "                                       train=False, \n",
    "                                       transform=torchvision.transforms.ToTensor())\n",
    "dataloader = DataLoader(dataset, batch_size=64)\n",
    "\n",
    "\n",
    "class Tudui(nn.Module):\n",
    "    def __init__(self):\n",
    "        super(Tudui, self).__init__()\n",
    "        self.model1 = Sequential(\n",
    "            Conv2d(3, 32, kernel_size=5, padding=2),\n",
    "            MaxPool2d(kernel_size=2),\n",
    "            Conv2d(32, 32, kernel_size=5, padding=2),\n",
    "            MaxPool2d(kernel_size=2),\n",
    "            Conv2d(32, 64, kernel_size=5, padding=2),\n",
    "            MaxPool2d(kernel_size=2),\n",
    "            Flatten(),\n",
    "            Linear(1024, 64),\n",
    "            Linear(64, 10)\n",
    "        )\n",
    "        \n",
    "    def forward(self, x):\n",
    "        x = self.model1(x)\n",
    "        return x\n",
    "\n",
    "    \n",
    "loss = CrossEntropyLoss()\n",
    "tudui = Tudui()\n",
    "optim = torch.optim.SGD(tudui.parameters(), lr=0.01)\n",
    "for epoch in range(20):\n",
    "    running_loss = 0.0\n",
    "    for data in dataloader:\n",
    "        imgs, targets = data\n",
    "        outputs = tudui(imgs)\n",
    "        result_loss = loss(outputs, targets)\n",
    "        optim.zero_grad()\n",
    "        result_loss.backward()\n",
    "        optim.step()\n",
    "        running_loss = running_loss + result_loss\n",
    "    print(running_loss)"
   ]
  },
  {
   "cell_type": "code",
   "execution_count": null,
   "metadata": {
    "collapsed": true
   },
   "outputs": [],
   "source": []
  }
 ],
 "metadata": {
  "kernelspec": {
   "display_name": "Python 3",
   "language": "python",
   "name": "python3"
  },
  "language_info": {
   "codemirror_mode": {
    "name": "ipython",
    "version": 3
   },
   "file_extension": ".py",
   "mimetype": "text/x-python",
   "name": "python",
   "nbconvert_exporter": "python",
   "pygments_lexer": "ipython3",
   "version": "3.6.2"
  }
 },
 "nbformat": 4,
 "nbformat_minor": 2
}
